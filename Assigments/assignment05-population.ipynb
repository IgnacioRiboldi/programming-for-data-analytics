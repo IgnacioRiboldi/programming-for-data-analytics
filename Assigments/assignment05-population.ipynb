{
 "cells": [
  {
   "cell_type": "markdown",
   "id": "54f00a85",
   "metadata": {},
   "source": [
    "# Population"
   ]
  },
  {
   "cell_type": "markdown",
   "id": "00a4fdce",
   "metadata": {},
   "source": [
    "#### By Ignacio Riboldi"
   ]
  },
  {
   "cell_type": "code",
   "execution_count": 113,
   "id": "d11c8f0e",
   "metadata": {},
   "outputs": [
    {
     "name": "stdout",
     "output_type": "stream",
     "text": [
      "Requirement already satisfied: pandas in c:\\users\\nacho\\anaconda3\\lib\\site-packages (2.3.3)\n",
      "Requirement already satisfied: numpy>=1.26.0 in c:\\users\\nacho\\anaconda3\\lib\\site-packages (from pandas) (2.1.3)\n",
      "Requirement already satisfied: python-dateutil>=2.8.2 in c:\\users\\nacho\\anaconda3\\lib\\site-packages (from pandas) (2.9.0.post0)\n",
      "Requirement already satisfied: pytz>=2020.1 in c:\\users\\nacho\\anaconda3\\lib\\site-packages (from pandas) (2024.1)\n",
      "Requirement already satisfied: tzdata>=2022.7 in c:\\users\\nacho\\anaconda3\\lib\\site-packages (from pandas) (2025.2)\n",
      "Requirement already satisfied: six>=1.5 in c:\\users\\nacho\\anaconda3\\lib\\site-packages (from python-dateutil>=2.8.2->pandas) (1.17.0)\n"
     ]
    }
   ],
   "source": [
    "!pip install -U pandas"
   ]
  },
  {
   "cell_type": "code",
   "execution_count": 114,
   "id": "462ad392",
   "metadata": {},
   "outputs": [
    {
     "data": {
      "text/html": [
       "<div>\n",
       "<style scoped>\n",
       "    .dataframe tbody tr th:only-of-type {\n",
       "        vertical-align: middle;\n",
       "    }\n",
       "\n",
       "    .dataframe tbody tr th {\n",
       "        vertical-align: top;\n",
       "    }\n",
       "\n",
       "    .dataframe thead th {\n",
       "        text-align: right;\n",
       "    }\n",
       "</style>\n",
       "<table border=\"1\" class=\"dataframe\">\n",
       "  <thead>\n",
       "    <tr style=\"text-align: right;\">\n",
       "      <th></th>\n",
       "      <th>STATISTIC</th>\n",
       "      <th>Statistic Label</th>\n",
       "      <th>TLIST(A1)</th>\n",
       "      <th>CensusYear</th>\n",
       "      <th>C02199V02655</th>\n",
       "      <th>Sex</th>\n",
       "      <th>C02076V03371</th>\n",
       "      <th>Single Year of Age</th>\n",
       "      <th>C03789V04537</th>\n",
       "      <th>Administrative Counties</th>\n",
       "      <th>UNIT</th>\n",
       "      <th>VALUE</th>\n",
       "    </tr>\n",
       "  </thead>\n",
       "  <tbody>\n",
       "    <tr>\n",
       "      <th>9789</th>\n",
       "      <td>FY006AC01</td>\n",
       "      <td>Population</td>\n",
       "      <td>2022</td>\n",
       "      <td>2022</td>\n",
       "      <td>2</td>\n",
       "      <td>Female</td>\n",
       "      <td>650</td>\n",
       "      <td>100 years and over</td>\n",
       "      <td>2ae19629-149d-13a3-e055-000000000001</td>\n",
       "      <td>Cavan County Council</td>\n",
       "      <td>Number</td>\n",
       "      <td>12</td>\n",
       "    </tr>\n",
       "    <tr>\n",
       "      <th>9790</th>\n",
       "      <td>FY006AC01</td>\n",
       "      <td>Population</td>\n",
       "      <td>2022</td>\n",
       "      <td>2022</td>\n",
       "      <td>2</td>\n",
       "      <td>Female</td>\n",
       "      <td>650</td>\n",
       "      <td>100 years and over</td>\n",
       "      <td>2ae19629-14a4-13a3-e055-000000000001</td>\n",
       "      <td>Donegal County Council</td>\n",
       "      <td>Number</td>\n",
       "      <td>31</td>\n",
       "    </tr>\n",
       "    <tr>\n",
       "      <th>9791</th>\n",
       "      <td>FY006AC01</td>\n",
       "      <td>Population</td>\n",
       "      <td>2022</td>\n",
       "      <td>2022</td>\n",
       "      <td>2</td>\n",
       "      <td>Female</td>\n",
       "      <td>650</td>\n",
       "      <td>100 years and over</td>\n",
       "      <td>2ae19629-1495-13a3-e055-000000000001</td>\n",
       "      <td>Monaghan County Council</td>\n",
       "      <td>Number</td>\n",
       "      <td>7</td>\n",
       "    </tr>\n",
       "  </tbody>\n",
       "</table>\n",
       "</div>"
      ],
      "text/plain": [
       "      STATISTIC Statistic Label  TLIST(A1)  CensusYear C02199V02655     Sex  \\\n",
       "9789  FY006AC01      Population       2022        2022            2  Female   \n",
       "9790  FY006AC01      Population       2022        2022            2  Female   \n",
       "9791  FY006AC01      Population       2022        2022            2  Female   \n",
       "\n",
       "     C02076V03371  Single Year of Age                          C03789V04537  \\\n",
       "9789          650  100 years and over  2ae19629-149d-13a3-e055-000000000001   \n",
       "9790          650  100 years and over  2ae19629-14a4-13a3-e055-000000000001   \n",
       "9791          650  100 years and over  2ae19629-1495-13a3-e055-000000000001   \n",
       "\n",
       "      Administrative Counties    UNIT  VALUE  \n",
       "9789     Cavan County Council  Number     12  \n",
       "9790   Donegal County Council  Number     31  \n",
       "9791  Monaghan County Council  Number      7  "
      ]
     },
     "execution_count": 114,
     "metadata": {},
     "output_type": "execute_result"
    }
   ],
   "source": [
    "import pandas as pd\n",
    "import matplotlib.pyplot as plt\n",
    "\n",
    "url = \"https://ws.cso.ie/public/api.restful/PxStat.Data.Cube_API.ReadDataset/FY006A/CSV/1.0/en\"\n",
    "df = pd.read_csv(url)\n",
    "df.tail(3)"
   ]
  },
  {
   "cell_type": "code",
   "execution_count": 115,
   "id": "35b85fa3",
   "metadata": {},
   "outputs": [],
   "source": [
    "df = df[df[\"Sex\"] != \"Both sexes\"]"
   ]
  },
  {
   "cell_type": "code",
   "execution_count": 116,
   "id": "1ffc0673",
   "metadata": {},
   "outputs": [
    {
     "data": {
      "text/plain": [
       "['STATISTIC',\n",
       " 'Statistic Label',\n",
       " 'TLIST(A1)',\n",
       " 'CensusYear',\n",
       " 'C02199V02655',\n",
       " 'Sex',\n",
       " 'C02076V03371',\n",
       " 'Single Year of Age',\n",
       " 'C03789V04537',\n",
       " 'Administrative Counties',\n",
       " 'UNIT',\n",
       " 'VALUE']"
      ]
     },
     "execution_count": 116,
     "metadata": {},
     "output_type": "execute_result"
    }
   ],
   "source": [
    "headers = df.columns.tolist()\n",
    "headers"
   ]
  },
  {
   "cell_type": "code",
   "execution_count": 117,
   "id": "6c7265be",
   "metadata": {},
   "outputs": [
    {
     "name": "stdout",
     "output_type": "stream",
     "text": [
      "<class 'pandas.core.frame.DataFrame'>\n",
      "Index: 6464 entries, 3296 to 9791\n",
      "Data columns (total 4 columns):\n",
      " #   Column                   Non-Null Count  Dtype \n",
      "---  ------                   --------------  ----- \n",
      " 0   Sex                      6464 non-null   object\n",
      " 1   Single Year of Age       6464 non-null   int64 \n",
      " 2   Administrative Counties  6464 non-null   object\n",
      " 3   VALUE                    6464 non-null   int64 \n",
      "dtypes: int64(2), object(2)\n",
      "memory usage: 252.5+ KB\n"
     ]
    }
   ],
   "source": [
    "drop_col_list = ['STATISTIC', 'Statistic Label','TLIST(A1)','CensusYear','C02199V02655','C02076V03371','C03789V04537','UNIT']\n",
    "df.drop(columns=drop_col_list, inplace=True)\n",
    "df = df[df[\"Single Year of Age\"] != \"All ages\"]\n",
    "df['Single Year of Age'] = df['Single Year of Age'].str.replace('Under 1 year', '0')\n",
    "df['Single Year of Age'] = df['Single Year of Age'].str.replace('\\D', '', regex=True)\n",
    "\n",
    "df['Single Year of Age']=df['Single Year of Age'].astype('int64')\n",
    "df['VALUE']=df['VALUE'].astype('int64')\n",
    "#print (df.head(3))\n",
    "df.info()"
   ]
  },
  {
   "cell_type": "code",
   "execution_count": 118,
   "id": "c1d35c52",
   "metadata": {},
   "outputs": [
    {
     "name": "stdout",
     "output_type": "stream",
     "text": [
      "      Sex  weighted_mean_age\n",
      "0  Female          38.939796\n",
      "1    Male          37.739448\n"
     ]
    }
   ],
   "source": [
    "df[\"weighted_age\"] = df[\"Single Year of Age\"] * df[\"VALUE\"]\n",
    "\n",
    "# Grupping by sex and age\n",
    "weighted_means = (\n",
    "    df.groupby(\"Sex\", as_index=False)\n",
    "      .agg(\n",
    "          total_weighted_age=(\"weighted_age\", \"sum\"),\n",
    "          total_population=(\"VALUE\", \"sum\")\n",
    "      )\n",
    ")\n",
    "\n",
    "# Calculating weighted mean age\n",
    "weighted_means[\"weighted_mean_age\"] = (\n",
    "    weighted_means[\"total_weighted_age\"] / weighted_means[\"total_population\"]\n",
    "    )\n",
    "\n",
    "print(weighted_means[[\"Sex\", \"weighted_mean_age\"]])"
   ]
  },
  {
   "cell_type": "code",
   "execution_count": null,
   "id": "cd836d5f",
   "metadata": {},
   "outputs": [],
   "source": []
  },
  {
   "cell_type": "code",
   "execution_count": null,
   "id": "45e7d8da",
   "metadata": {},
   "outputs": [],
   "source": []
  },
  {
   "cell_type": "markdown",
   "id": "e26610ee",
   "metadata": {},
   "source": [
    "#END"
   ]
  }
 ],
 "metadata": {
  "kernelspec": {
   "display_name": "base",
   "language": "python",
   "name": "python3"
  },
  "language_info": {
   "codemirror_mode": {
    "name": "ipython",
    "version": 3
   },
   "file_extension": ".py",
   "mimetype": "text/x-python",
   "name": "python",
   "nbconvert_exporter": "python",
   "pygments_lexer": "ipython3",
   "version": "3.13.5"
  }
 },
 "nbformat": 4,
 "nbformat_minor": 5
}
