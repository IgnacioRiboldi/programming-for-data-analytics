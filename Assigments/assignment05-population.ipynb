{
 "cells": [
  {
   "cell_type": "markdown",
   "id": "54f00a85",
   "metadata": {},
   "source": [
    "# Population"
   ]
  },
  {
   "cell_type": "markdown",
   "id": "00a4fdce",
   "metadata": {},
   "source": [
    "#### By Ignacio Riboldi"
   ]
  },
  {
   "cell_type": "markdown",
   "id": "0df9cc7e",
   "metadata": {},
   "source": [
    "## PART 1"
   ]
  },
  {
   "cell_type": "code",
   "execution_count": 31,
   "id": "462ad392",
   "metadata": {},
   "outputs": [
    {
     "data": {
      "text/html": [
       "<div>\n",
       "<style scoped>\n",
       "    .dataframe tbody tr th:only-of-type {\n",
       "        vertical-align: middle;\n",
       "    }\n",
       "\n",
       "    .dataframe tbody tr th {\n",
       "        vertical-align: top;\n",
       "    }\n",
       "\n",
       "    .dataframe thead th {\n",
       "        text-align: right;\n",
       "    }\n",
       "</style>\n",
       "<table border=\"1\" class=\"dataframe\">\n",
       "  <thead>\n",
       "    <tr style=\"text-align: right;\">\n",
       "      <th></th>\n",
       "      <th>STATISTIC</th>\n",
       "      <th>Statistic Label</th>\n",
       "      <th>TLIST(A1)</th>\n",
       "      <th>CensusYear</th>\n",
       "      <th>C02199V02655</th>\n",
       "      <th>Sex</th>\n",
       "      <th>C02076V03371</th>\n",
       "      <th>Single Year of Age</th>\n",
       "      <th>C03789V04537</th>\n",
       "      <th>Administrative Counties</th>\n",
       "      <th>UNIT</th>\n",
       "      <th>VALUE</th>\n",
       "    </tr>\n",
       "  </thead>\n",
       "  <tbody>\n",
       "    <tr>\n",
       "      <th>9789</th>\n",
       "      <td>FY006AC01</td>\n",
       "      <td>Population</td>\n",
       "      <td>2022</td>\n",
       "      <td>2022</td>\n",
       "      <td>2</td>\n",
       "      <td>Female</td>\n",
       "      <td>650</td>\n",
       "      <td>100 years and over</td>\n",
       "      <td>2ae19629-149d-13a3-e055-000000000001</td>\n",
       "      <td>Cavan County Council</td>\n",
       "      <td>Number</td>\n",
       "      <td>12</td>\n",
       "    </tr>\n",
       "    <tr>\n",
       "      <th>9790</th>\n",
       "      <td>FY006AC01</td>\n",
       "      <td>Population</td>\n",
       "      <td>2022</td>\n",
       "      <td>2022</td>\n",
       "      <td>2</td>\n",
       "      <td>Female</td>\n",
       "      <td>650</td>\n",
       "      <td>100 years and over</td>\n",
       "      <td>2ae19629-14a4-13a3-e055-000000000001</td>\n",
       "      <td>Donegal County Council</td>\n",
       "      <td>Number</td>\n",
       "      <td>31</td>\n",
       "    </tr>\n",
       "    <tr>\n",
       "      <th>9791</th>\n",
       "      <td>FY006AC01</td>\n",
       "      <td>Population</td>\n",
       "      <td>2022</td>\n",
       "      <td>2022</td>\n",
       "      <td>2</td>\n",
       "      <td>Female</td>\n",
       "      <td>650</td>\n",
       "      <td>100 years and over</td>\n",
       "      <td>2ae19629-1495-13a3-e055-000000000001</td>\n",
       "      <td>Monaghan County Council</td>\n",
       "      <td>Number</td>\n",
       "      <td>7</td>\n",
       "    </tr>\n",
       "  </tbody>\n",
       "</table>\n",
       "</div>"
      ],
      "text/plain": [
       "      STATISTIC Statistic Label  TLIST(A1)  CensusYear C02199V02655     Sex  \\\n",
       "9789  FY006AC01      Population       2022        2022            2  Female   \n",
       "9790  FY006AC01      Population       2022        2022            2  Female   \n",
       "9791  FY006AC01      Population       2022        2022            2  Female   \n",
       "\n",
       "     C02076V03371  Single Year of Age                          C03789V04537  \\\n",
       "9789          650  100 years and over  2ae19629-149d-13a3-e055-000000000001   \n",
       "9790          650  100 years and over  2ae19629-14a4-13a3-e055-000000000001   \n",
       "9791          650  100 years and over  2ae19629-1495-13a3-e055-000000000001   \n",
       "\n",
       "      Administrative Counties    UNIT  VALUE  \n",
       "9789     Cavan County Council  Number     12  \n",
       "9790   Donegal County Council  Number     31  \n",
       "9791  Monaghan County Council  Number      7  "
      ]
     },
     "execution_count": 31,
     "metadata": {},
     "output_type": "execute_result"
    }
   ],
   "source": [
    "import pandas as pd\n",
    "\n",
    "url = \"https://ws.cso.ie/public/api.restful/PxStat.Data.Cube_API.ReadDataset/FY006A/CSV/1.0/en\"\n",
    "df = pd.read_csv(url)\n",
    "df.tail(3)"
   ]
  },
  {
   "cell_type": "code",
   "execution_count": 32,
   "id": "35b85fa3",
   "metadata": {},
   "outputs": [],
   "source": [
    "df = df[df[\"Sex\"] != \"Both sexes\"]"
   ]
  },
  {
   "cell_type": "code",
   "execution_count": 33,
   "id": "1ffc0673",
   "metadata": {},
   "outputs": [
    {
     "data": {
      "text/plain": [
       "['STATISTIC',\n",
       " 'Statistic Label',\n",
       " 'TLIST(A1)',\n",
       " 'CensusYear',\n",
       " 'C02199V02655',\n",
       " 'Sex',\n",
       " 'C02076V03371',\n",
       " 'Single Year of Age',\n",
       " 'C03789V04537',\n",
       " 'Administrative Counties',\n",
       " 'UNIT',\n",
       " 'VALUE']"
      ]
     },
     "execution_count": 33,
     "metadata": {},
     "output_type": "execute_result"
    }
   ],
   "source": [
    "headers = df.columns.tolist()\n",
    "headers"
   ]
  },
  {
   "cell_type": "code",
   "execution_count": 34,
   "id": "6c7265be",
   "metadata": {},
   "outputs": [
    {
     "name": "stdout",
     "output_type": "stream",
     "text": [
      "<class 'pandas.core.frame.DataFrame'>\n",
      "Index: 6464 entries, 3296 to 9791\n",
      "Data columns (total 4 columns):\n",
      " #   Column                   Non-Null Count  Dtype \n",
      "---  ------                   --------------  ----- \n",
      " 0   Sex                      6464 non-null   object\n",
      " 1   Single Year of Age       6464 non-null   int64 \n",
      " 2   Administrative Counties  6464 non-null   object\n",
      " 3   VALUE                    6464 non-null   int64 \n",
      "dtypes: int64(2), object(2)\n",
      "memory usage: 252.5+ KB\n"
     ]
    }
   ],
   "source": [
    "drop_col_list = ['STATISTIC', 'Statistic Label','TLIST(A1)','CensusYear','C02199V02655','C02076V03371','C03789V04537','UNIT']\n",
    "df.drop(columns=drop_col_list, inplace=True)\n",
    "df = df[df[\"Single Year of Age\"] != \"All ages\"]\n",
    "df['Single Year of Age'] = df['Single Year of Age'].str.replace('Under 1 year', '0')\n",
    "df['Single Year of Age'] = df['Single Year of Age'].str.replace('\\D', '', regex=True)\n",
    "df['Single Year of Age']=df['Single Year of Age'].astype('int64')\n",
    "df['VALUE']=df['VALUE'].astype('int64')\n",
    "\n",
    "#print (df.head(3))\n",
    "df.info()"
   ]
  },
  {
   "cell_type": "code",
   "execution_count": 35,
   "id": "c1d35c52",
   "metadata": {},
   "outputs": [
    {
     "name": "stdout",
     "output_type": "stream",
     "text": [
      "                        Sex  weighted_mean_age\n",
      "0                    Female          38.939796\n",
      "1                      Male          37.739448\n",
      "2  Difference_between_sexes           1.200348\n"
     ]
    }
   ],
   "source": [
    "# Calculate weighted age\n",
    "df[\"weighted_age\"] = df[\"Single Year of Age\"] * df[\"VALUE\"]\n",
    "\n",
    "# Group by sex and compute total weighted ages and total population\n",
    "weighted_means = (\n",
    "    df.groupby(\"Sex\", as_index=False)\n",
    "      .agg(\n",
    "          total_weighted_age=(\"weighted_age\", \"sum\"),\n",
    "          total_population=(\"VALUE\", \"sum\")\n",
    "      )\n",
    ")\n",
    "\n",
    "# Weighted mean age for each sex\n",
    "weighted_means[\"weighted_mean_age\"] = (\n",
    "    weighted_means[\"total_weighted_age\"] / weighted_means[\"total_population\"]\n",
    ")\n",
    "\n",
    "# If there are exactly two sexes, calculate the difference between their mean ages\n",
    "if weighted_means[\"Sex\"].nunique() == 2:\n",
    "    # Get the difference (absolute value in case the results is negative)\n",
    "    diff = abs(weighted_means.loc[0, \"weighted_mean_age\"] - weighted_means.loc[1, \"weighted_mean_age\"])\n",
    "    \n",
    "    # Create a new row with the difference value\n",
    "    diff_row = pd.DataFrame({\n",
    "        \"Sex\": [\"Difference_between_sexes\"],\n",
    "        \"total_weighted_age\": [None],\n",
    "        \"total_population\": [None],\n",
    "        \"weighted_mean_age\": [diff]\n",
    "    })\n",
    "    \n",
    "    # Append the new row\n",
    "    weighted_means = pd.concat([weighted_means, diff_row], ignore_index=True)\n",
    "\n",
    "# Print\n",
    "print(weighted_means[[\"Sex\", \"weighted_mean_age\"]])\n"
   ]
  },
  {
   "cell_type": "markdown",
   "id": "fbe060f3",
   "metadata": {},
   "source": [
    "## PART 2"
   ]
  },
  {
   "cell_type": "code",
   "execution_count": 38,
   "id": "45e7d8da",
   "metadata": {},
   "outputs": [
    {
     "name": "stdout",
     "output_type": "stream",
     "text": [
      "   Sex  people_in_range\n",
      "Female           829012\n",
      "  Male           768060\n",
      "\n",
      "Total number of people in that age range (both sexes): 1,597,072\n",
      "Difference between male and female is 60,952 people.\n"
     ]
    }
   ],
   "source": [
    "# Age number\n",
    "num = 35\n",
    "\n",
    "# Range within 5 years\n",
    "lower = num - 5\n",
    "upper = num + 5\n",
    "\n",
    "# Filter\n",
    "people_in_range = df[(df[\"Single Year of Age\"] >= lower) & (df[\"Single Year of Age\"] <= upper)]\n",
    "\n",
    "# Count by sex\n",
    "people_by_sex = (\n",
    "    people_in_range.groupby(\"Sex\", as_index=False)[\"VALUE\"].sum()\n",
    "    .rename(columns={\"VALUE\": \"people_in_range\"})\n",
    ")\n",
    "\n",
    "# Total\n",
    "total_people = people_by_sex[\"people_in_range\"].sum()\n",
    "\n",
    "# Difference by sex\n",
    "male_value = people_by_sex.loc[people_by_sex[\"Sex\"] == \"Male\", \"people_in_range\"].values[0]\n",
    "female_value = people_by_sex.loc[people_by_sex[\"Sex\"] == \"Female\", \"people_in_range\"].values[0]\n",
    "diff = abs(male_value - female_value)\n",
    "\n",
    "\n",
    "# Result\n",
    "\n",
    "print(people_by_sex.to_string(index=False))\n",
    "print(f\"\\nTotal number of people in that age range (both sexes): {total_people:,}\")\n",
    "print(f\"Difference between male and female is {diff:,} people.\")\n"
   ]
  },
  {
   "cell_type": "markdown",
   "id": "e84ebce7",
   "metadata": {},
   "source": [
    "# PART 3"
   ]
  },
  {
   "cell_type": "code",
   "execution_count": 42,
   "id": "4022600f",
   "metadata": {},
   "outputs": [
    {
     "name": "stdout",
     "output_type": "stream",
     "text": [
      "Region with biggest population difference between sexes (ages 30–40):\n",
      "Fingal County Council — 2,942 people difference\n"
     ]
    }
   ],
   "source": [
    "# Age range\n",
    "lower, upper = 30, 40\n",
    "\n",
    "# Filter by age\n",
    "subset = df[(df[\"Single Year of Age\"] >= lower) & (df[\"Single Year of Age\"] <= upper) & (df[\"Administrative Counties\"] != \"Ireland\")  # <- excluye total\n",
    "]\n",
    "\n",
    "# Grouping by region and sex\n",
    "region_sex = subset.groupby([\"Administrative Counties\", \"Sex\"], as_index=False)[\"VALUE\"].sum()\n",
    "\n",
    "# Absolute difference\n",
    "region_pivot[\"sex_difference\"] = abs(region_pivot[\"Male\"] - region_pivot[\"Female\"])\n",
    "\n",
    "# Region with the biggest difference\n",
    "max_region = region_pivot[\"sex_difference\"].idxmax()\n",
    "max_diff = region_pivot.loc[max_region, \"sex_difference\"]\n",
    "\n",
    "# Results\n",
    "print(f\"Region with biggest population difference between sexes (ages 30–40):\")\n",
    "print(f\"{max_region} — {max_diff:,} people difference\")\n"
   ]
  },
  {
   "cell_type": "markdown",
   "id": "e26610ee",
   "metadata": {},
   "source": [
    "# END"
   ]
  },
  {
   "cell_type": "markdown",
   "id": "cc23234b",
   "metadata": {},
   "source": []
  }
 ],
 "metadata": {
  "kernelspec": {
   "display_name": "base",
   "language": "python",
   "name": "python3"
  },
  "language_info": {
   "codemirror_mode": {
    "name": "ipython",
    "version": 3
   },
   "file_extension": ".py",
   "mimetype": "text/x-python",
   "name": "python",
   "nbconvert_exporter": "python",
   "pygments_lexer": "ipython3",
   "version": "3.13.5"
  }
 },
 "nbformat": 4,
 "nbformat_minor": 5
}
